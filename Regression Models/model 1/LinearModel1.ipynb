{
 "cells": [
  {
   "cell_type": "markdown",
   "id": "a74e50fe",
   "metadata": {},
   "source": [
    "# **EXERCISES**\n",
    "\n",
    "JUDIT LLORENS DÍAZ"
   ]
  },
  {
   "cell_type": "markdown",
   "id": "368e9e9f-ceba-496d-9bb8-e3022c88435a",
   "metadata": {
    "tags": []
   },
   "source": [
    "## Exercise 01 --> Linear Regression model\n",
    "\n",
    "## **IMPORTANT TYPES**\n",
    " - **Split data into train and test in order to evaluate the model with unseen data**\n",
    " - **Normalize data to avoid scaling issues when fitting the model (specially for the LR model)**\n",
    " - **Train your model and apply it to the test data.**\n",
    " - **Evaluate the model with the `score` function, for both train and test datasets**"
   ]
  },
  {
   "cell_type": "code",
   "execution_count": null,
   "id": "35e7053f-c101-4c22-ae23-39dd8112b7f3",
   "metadata": {},
   "outputs": [],
   "source": [
    "import pandas as pd\n",
    "\n",
    "from sklearn.datasets import fetch_california_housing\n",
    "from sklearn.model_selection import train_test_split\n",
    "from sklearn.preprocessing import StandardScaler\n",
    "from sklearn.linear_model import LinearRegression"
   ]
  },
  {
   "cell_type": "code",
   "execution_count": null,
   "id": "757edddb-f69e-493a-9062-155ab98ac098",
   "metadata": {},
   "outputs": [],
   "source": [
    "data = fetch_california_housing() "
   ]
  },
  {
   "cell_type": "code",
   "execution_count": null,
   "id": "2089feec-4db2-40ae-9395-6b42eb5451ae",
   "metadata": {},
   "outputs": [],
   "source": [
    "print(data.keys())"
   ]
  },
  {
   "cell_type": "code",
   "execution_count": null,
   "id": "527a9dd7-711b-4e94-bf8c-3948f7b082cc",
   "metadata": {},
   "outputs": [],
   "source": [
    "X = pd.DataFrame(data[\"data\"], columns=data[\"feature_names\"])\n",
    "y = pd.Series(data[\"target\"], name=data[\"target_names\"][0])"
   ]
  },
  {
   "cell_type": "code",
   "execution_count": null,
   "id": "8047d485-8c4c-43ba-ac90-d2b041e3a8e4",
   "metadata": {},
   "outputs": [],
   "source": [
    "type(data)"
   ]
  },
  {
   "cell_type": "code",
   "execution_count": null,
   "id": "4e29c7b5-708c-48af-b11c-b8a47b0b5481",
   "metadata": {},
   "outputs": [],
   "source": [
    "print(data[\"DESCR\"])"
   ]
  },
  {
   "cell_type": "code",
   "execution_count": null,
   "id": "aaab439c-cc5e-4209-bdfc-d8dfac5b8820",
   "metadata": {},
   "outputs": [],
   "source": [
    "X.head()"
   ]
  },
  {
   "cell_type": "code",
   "execution_count": null,
   "id": "f6733fad-33ab-42a2-b670-000c5abe14e5",
   "metadata": {},
   "outputs": [],
   "source": [
    "y.head()"
   ]
  },
  {
   "cell_type": "markdown",
   "id": "a1f19555-c56a-4665-8e6e-1c053a4478e8",
   "metadata": {},
   "source": [
    "## Build model"
   ]
  },
  {
   "cell_type": "markdown",
   "id": "1de373fd-612e-47cf-ad83-545512e167ba",
   "metadata": {},
   "source": [
    "### Remove location variables we don't need!"
   ]
  },
  {
   "cell_type": "code",
   "execution_count": null,
   "id": "9fcde717-b0a6-4cdd-9286-b028f89c4f1b",
   "metadata": {},
   "outputs": [],
   "source": [
    "X = X.drop(columns=[\"Latitude\",\"Longitude\"])\n",
    "#we don't need them to predict the avarage"
   ]
  },
  {
   "cell_type": "markdown",
   "id": "ddd07359-f44d-4813-b443-8ee9b9fe9841",
   "metadata": {},
   "source": [
    "### Train/Test split"
   ]
  },
  {
   "cell_type": "code",
   "execution_count": null,
   "id": "851a27b9-0708-4369-a71f-777830485fb9",
   "metadata": {},
   "outputs": [],
   "source": [
    "X_train, X_test, y_train, y_test = train_test_split(\n",
    "    X, y,              # arrays or matrices I want to split\n",
    "    test_size=0.3,     # the proportion to data for testing (30% for testing and 70% for trianing)\n",
    "    random_state=123,  # can be any number. make the split reproducibile\n",
    "    shuffle=True,       # if we want to shuffle data before splitting\n",
    ")"
   ]
  },
  {
   "cell_type": "code",
   "execution_count": null,
   "id": "0d49035e-9812-4d15-b914-e8d25ff98672",
   "metadata": {},
   "outputs": [],
   "source": [
    "X.shape"
   ]
  },
  {
   "cell_type": "code",
   "execution_count": null,
   "id": "3552612b-e5a5-4104-80c3-4ddf242ce2d1",
   "metadata": {},
   "outputs": [],
   "source": [
    "y.shape"
   ]
  },
  {
   "cell_type": "code",
   "execution_count": null,
   "id": "cabc3d37-39b7-4568-ac06-bbfc6423daab",
   "metadata": {},
   "outputs": [],
   "source": [
    "X_train.shape"
   ]
  },
  {
   "cell_type": "code",
   "execution_count": null,
   "id": "0d571585-e5ac-433e-8572-6365180b2b0c",
   "metadata": {},
   "outputs": [],
   "source": [
    "y_train.shape"
   ]
  },
  {
   "cell_type": "code",
   "execution_count": null,
   "id": "6d631418-5c0e-427c-aa6b-112bb2ba971d",
   "metadata": {},
   "outputs": [],
   "source": [
    "X_test.shape"
   ]
  },
  {
   "cell_type": "markdown",
   "id": "19680cd9-fb39-4e05-a260-1235349be2d5",
   "metadata": {},
   "source": [
    "### Features Standardization"
   ]
  },
  {
   "cell_type": "code",
   "execution_count": null,
   "id": "fb68eb00-ef44-4787-b088-e4ac629a31a2",
   "metadata": {},
   "outputs": [],
   "source": [
    "sc = StandardScaler()"
   ]
  },
  {
   "cell_type": "code",
   "execution_count": null,
   "id": "a34e7f28-09f0-4f38-9de5-da2f429ef1c4",
   "metadata": {},
   "outputs": [],
   "source": [
    "X_train_sc = sc.fit_transform(X_train) #do it together!--> TRAINING DATA!\n",
    "X_train_sc = pd.DataFrame(X_train_sc, columns=X_train.columns)"
   ]
  },
  {
   "cell_type": "code",
   "execution_count": null,
   "id": "b8729d54-7e58-4397-9f0f-3b9bbfca43c2",
   "metadata": {},
   "outputs": [],
   "source": [
    "X_train.head()"
   ]
  },
  {
   "cell_type": "code",
   "execution_count": null,
   "id": "520ee303-f476-4ee0-9f41-a001ae05f475",
   "metadata": {},
   "outputs": [],
   "source": [
    "X_train_sc.head()"
   ]
  },
  {
   "cell_type": "markdown",
   "id": "c70a4948-1d97-4d52-a738-756408452181",
   "metadata": {},
   "source": [
    "### Train ML model"
   ]
  },
  {
   "cell_type": "code",
   "execution_count": null,
   "id": "574f35ba-ec75-44f3-8418-a56e4d0f0687",
   "metadata": {},
   "outputs": [],
   "source": [
    "from sklearn.linear_model import LinearRegression"
   ]
  },
  {
   "cell_type": "code",
   "execution_count": null,
   "id": "2704b301-d294-40ae-8baa-97a6e2c9cd8f",
   "metadata": {},
   "outputs": [],
   "source": [
    "reg = LinearRegression() #CREATING THE LINEAR REG MODEL"
   ]
  },
  {
   "cell_type": "code",
   "execution_count": null,
   "id": "29e53007-1888-4848-9bca-c240c9a8cc6c",
   "metadata": {},
   "outputs": [],
   "source": [
    "reg.fit(X_train_sc, y_train) #fit the model with x trained SCALED and y trian"
   ]
  },
  {
   "cell_type": "markdown",
   "id": "5002546e-5aff-4923-ac74-a90d99320ac2",
   "metadata": {},
   "source": [
    "### Evaluate model"
   ]
  },
  {
   "cell_type": "markdown",
   "id": "e7b6a3dc-ab0a-4f19-83f8-b2fb4231722d",
   "metadata": {},
   "source": [
    "**Question 1:** What are the $R^2$ metrics for train and test?\n",
    "\n",
    "The $R^2$ metric can be calculated directly with the `score` function"
   ]
  },
  {
   "cell_type": "code",
   "execution_count": null,
   "id": "a38d2646-52fb-4d49-8db9-cd333e81c53c",
   "metadata": {},
   "outputs": [],
   "source": [
    "# R2 for training\n",
    "r2_train = reg.score(X_train_sc, y_train) #it's the operation from the regression model"
   ]
  },
  {
   "cell_type": "code",
   "execution_count": null,
   "id": "f7452876-492b-488d-b71d-22693c4962b3",
   "metadata": {},
   "outputs": [],
   "source": [
    "r2_train"
   ]
  },
  {
   "cell_type": "code",
   "execution_count": null,
   "id": "b5b05117-5e7e-4370-a161-d68476f880d5",
   "metadata": {},
   "outputs": [],
   "source": [
    "X_test.head()"
   ]
  },
  {
   "cell_type": "code",
   "execution_count": null,
   "id": "30ab4edc-534f-48fc-aef0-01a89deeb901",
   "metadata": {},
   "outputs": [],
   "source": [
    "# R2 for test --> SCALING TEST X!\n",
    "X_test_sc = sc.transform(X_test)\n",
    "X_test_sc = pd.DataFrame(X_test_sc, columns=X_test.columns)"
   ]
  },
  {
   "cell_type": "code",
   "execution_count": null,
   "id": "e80e88f9-aad7-4f6f-92e4-7947f1e1f550",
   "metadata": {},
   "outputs": [],
   "source": [
    "X_test_sc.head()"
   ]
  },
  {
   "cell_type": "code",
   "execution_count": null,
   "id": "5e77ff85-cd1f-482c-8d9f-cfa0bf6a4223",
   "metadata": {},
   "outputs": [],
   "source": [
    "r2_test = reg.score(X_test_sc, y_test)"
   ]
  },
  {
   "cell_type": "code",
   "execution_count": null,
   "id": "05135a62-ef5d-4dcd-a594-156c26c976ab",
   "metadata": {},
   "outputs": [],
   "source": [
    "print(f\"R2 Train: {r2_train}\")\n",
    "print(f\"R2 Test: {r2_test}\")"
   ]
  },
  {
   "cell_type": "markdown",
   "id": "e1e162bb-2827-42ae-9af6-16d1e2a69f51",
   "metadata": {},
   "source": [
    "- R2 Train: 0.5383: This value, 0.5383, represents the R2 score for your model when applied to the training dataset. It indicates that your model explains approximately 53.83% of the variance in the training data. In other words, the model captures 53.83% of the variability in the target variable based on the features in the training data.\n",
    "\n",
    "- R2 Test: 0.5426: This value, 0.5426, is the R2 score for your model when applied to the testing dataset. It tells you that your model explains around 54.26% of the variance in the testing data. It's a measure of how well your model generalizes to unseen data.\n",
    "\n",
    "In both cases, a higher R2 score indicates a better fit. \n",
    "\n",
    "\n",
    "When you calculate the R-squared (R²) for both the training and test datasets in a linear regression model, you can use these values to evaluate the performance of your model. R-squared measures the proportion of the variance in the dependent variable (the target) that is explained by the independent variables (the features) in your model. A higher R-squared value indicates a better fit of the model to the data.\n",
    "\n",
    "Here's how you can interpret and compare the R-squared values for your training and test datasets:\n",
    "\n",
    "1. **Training R-squared (R²):** This value measures how well your model fits the training data. A high R-squared on the training data suggests that your model explains a significant portion of the variance in the training data. However, a very high R-squared on the training data could be a sign of overfitting, where the model has memorized the training data but may not generalize well to new, unseen data.\n",
    "\n",
    "2. **Test R-squared (R²):** This value measures how well your model generalizes to new, unseen data. A high R-squared on the test data indicates that your model can explain a significant portion of the variance in new data that it hasn't seen during training.\n",
    "\n",
    "To determine if your linear regression model is good or if you should consider trying another model, consider the following scenarios:\n",
    "\n",
    "- If both the training and test R-squared values are relatively high (close to 1), it suggests that your model is performing well on both the training and test data. This is a good sign, but you should also consider other evaluation metrics and examine the residuals (the differences between predicted and actual values) to ensure there is no systematic bias in your model.\n",
    "\n",
    "- If the training R-squared is high, but the test R-squared is significantly lower, it may indicate overfitting. In this case, your model is fitting the training data too closely and might not generalize well to new data. You might need to simplify your model, regularize it, or increase the amount of training data to reduce overfitting.\n",
    "\n",
    "- If both the training and test R-squared values are low, it suggests that your model may not be capturing the underlying relationships in the data. In this case, you should explore other models, feature engineering, or collect more relevant data.\n",
    "\n",
    "- It's also a good practice to consider other evaluation metrics, such as mean squared error (MSE), root mean squared error (RMSE), and mean absolute error (MAE), in addition to R-squared, to get a more comprehensive understanding of your model's performance.\n",
    "\n",
    "Remember that the interpretation of R-squared should be done in the context of your specific problem and dataset. It's important to strike a balance between model complexity and generalization when assessing your model's quality."
   ]
  },
  {
   "cell_type": "markdown",
   "id": "cddf1e0e-15a7-4e7e-aed0-193aaa7d83fe",
   "metadata": {},
   "source": [
    "### Make estimations with the model"
   ]
  },
  {
   "cell_type": "markdown",
   "id": "abd9a079-9985-4aca-932f-2feffff7d425",
   "metadata": {},
   "source": [
    "EXAMPLE: Imagine that me and my wife, we want to sell our house in 528-426 W Scott Ave Clovis, CA 93612 but we have no idea about the price. Our house is 30 years old, with 6 rooms and 3 bedrooms. In our geographic block group we are 300 people. Our income is 60K.--> price? (target)"
   ]
  },
  {
   "cell_type": "code",
   "execution_count": null,
   "id": "97e73bfb-d774-461b-9f6e-f4c3e12f6c54",
   "metadata": {},
   "outputs": [],
   "source": [
    "new_sample = [{\n",
    "    \"MedInc\": 6,\n",
    "    \"HouseAge\": 30,\n",
    "    \"AveRooms\": 6,\n",
    "    \"AveBedrms\": 3,\n",
    "    \"Population\": 300,\n",
    "    \"AveOccup\": 2\n",
    "}]\n",
    "\n",
    "new_sample = pd.DataFrame.from_dict(new_sample, orient=\"columns\")"
   ]
  },
  {
   "cell_type": "code",
   "execution_count": null,
   "id": "b52e57c8-dce4-4838-b6a7-e0ecc7b90609",
   "metadata": {},
   "outputs": [],
   "source": [
    "new_sample"
   ]
  },
  {
   "cell_type": "markdown",
   "id": "ba3c2e05-e319-4efc-84da-fed1c6d92c4c",
   "metadata": {},
   "source": [
    "#### Scale features"
   ]
  },
  {
   "cell_type": "code",
   "execution_count": null,
   "id": "5f0816a5-3738-4ce1-8d48-71f64b700713",
   "metadata": {},
   "outputs": [],
   "source": [
    "new_sample_sc = sc.transform(new_sample)\n",
    "new_sample_sc = pd.DataFrame(new_sample_sc, columns=new_sample.columns)"
   ]
  },
  {
   "cell_type": "code",
   "execution_count": null,
   "id": "b43871e6-b391-4fd9-a1d1-b6d7863f697e",
   "metadata": {},
   "outputs": [],
   "source": [
    "new_sample_sc"
   ]
  },
  {
   "cell_type": "markdown",
   "id": "d630d4e6-87b5-4dd0-8cdb-30b79d78b397",
   "metadata": {},
   "source": [
    "#### Predict"
   ]
  },
  {
   "cell_type": "code",
   "execution_count": null,
   "id": "80dcc142-19be-48c7-a9e8-37fecf37d91d",
   "metadata": {},
   "outputs": [],
   "source": [
    "my_house_est_price = reg.predict(new_sample_sc)\n",
    "\n",
    "# REG is the linear model i created and fitted then to test if it's good fit we do it with unseen data! predicting form it"
   ]
  },
  {
   "cell_type": "code",
   "execution_count": null,
   "id": "80eeff7c-49da-411d-92fb-e96005c83bd7",
   "metadata": {},
   "outputs": [],
   "source": [
    "my_house_est_price"
   ]
  },
  {
   "cell_type": "markdown",
   "id": "720524e4-6596-4d3e-8af4-2dee5a29840b",
   "metadata": {},
   "source": [
    "### Let's do some graphics\n",
    "Represent the `MedInc` against the target `MedHouseVal`"
   ]
  },
  {
   "cell_type": "code",
   "execution_count": null,
   "id": "705b2d14-3f5a-448f-b675-2bf19e861459",
   "metadata": {},
   "outputs": [],
   "source": [
    "import plotly.express as px\n",
    "import plotly.graph_objects as go"
   ]
  },
  {
   "cell_type": "code",
   "execution_count": null,
   "id": "45ecbc00-5939-4340-812e-2506085a75c2",
   "metadata": {},
   "outputs": [],
   "source": [
    "fig = go.Figure(layout_template=\"none\", layout_title=\"MedInc -vs- MedHouseVal\")\n",
    "\n",
    "# add test data\n",
    "fig.add_trace(go.Scattergl(   # the scattergl option is more suitable in case we have many samples (>1000) to plot\n",
    "    x=X_test.MedInc,\n",
    "    y=y_test,\n",
    "    mode=\"markers\",\n",
    "    name=\"Rest of Houses\",\n",
    "))\n",
    "\n",
    "# add my house\n",
    "fig.add_trace(go.Scatter(\n",
    "    x=new_sample.MedInc,\n",
    "    y=my_house_est_price,\n",
    "    mode=\"markers\",\n",
    "    marker=dict(\n",
    "        size=15,\n",
    "        symbol=\"star-triangle-up-dot\"\n",
    "    ),\n",
    "    name=\"My House\"\n",
    "))\n",
    "\n",
    "fig.update_xaxes(title=\"MedInc (x10K $)\")\n",
    "fig.update_yaxes(title=\"MedHouseVal (x100K $)\")"
   ]
  },
  {
   "cell_type": "markdown",
   "id": "6c127caa-346d-4408-a174-ac30e6b790ef",
   "metadata": {},
   "source": [
    "### SECOND PROCESS"
   ]
  },
  {
   "cell_type": "code",
   "execution_count": null,
   "id": "83742013-b94c-4f6e-8cd7-67e3fef0ecf6",
   "metadata": {},
   "outputs": [],
   "source": [
    "data = fetch_california_housing()\n",
    "X = pd.DataFrame(data[\"data\"], columns=data[\"feature_names\"])\n",
    "y = pd.Series(data[\"target\"], name=data[\"target_names\"][0])"
   ]
  },
  {
   "cell_type": "markdown",
   "id": "efd01028-3bbc-45fa-99fc-217f5a3a4077",
   "metadata": {},
   "source": [
    "### Determine location of reference points\n",
    "You can use Google Maps for this"
   ]
  },
  {
   "cell_type": "code",
   "execution_count": null,
   "id": "61ffa7b8-4470-4cbb-b51d-bd86c2e694f6",
   "metadata": {},
   "outputs": [],
   "source": [
    "sfLocation = [37.756728, -122.447001]\n",
    "sjLocation = [37.312811, -121.857302]\n",
    "sdLocation = [32.731034, -117.162596]\n",
    "myLocation = [36.811032, -119.721304]"
   ]
  },
  {
   "cell_type": "markdown",
   "id": "74cf95ab-4ead-4a3a-86eb-0086fff7f495",
   "metadata": {},
   "source": [
    "### Calculate new variables"
   ]
  },
  {
   "cell_type": "code",
   "execution_count": null,
   "id": "cf774785-620d-4c9f-aefb-1f9d78f383dc",
   "metadata": {},
   "outputs": [],
   "source": [
    "%%time\n",
    "\n",
    "X[\"distance2SF\"] = X.apply(lambda x: distance.distance(x[[\"Latitude\",\"Longitude\"]], sfLocation).km, axis=\"columns\")\n",
    "X[\"distance2SJ\"] = X.apply(lambda x: distance.distance(x[[\"Latitude\",\"Longitude\"]], sjLocation).km, axis=\"columns\")\n",
    "X[\"distance2SD\"] = X.apply(lambda x: distance.distance(x[[\"Latitude\",\"Longitude\"]], sdLocation).km, axis=\"columns\")"
   ]
  },
  {
   "cell_type": "code",
   "execution_count": null,
   "id": "1ab98038-3d15-4bf7-8ef9-2cf96a09a7b5",
   "metadata": {},
   "outputs": [],
   "source": [
    "X.head()"
   ]
  },
  {
   "cell_type": "markdown",
   "id": "ff04ef1b-09da-4e0b-b888-49d23d219c27",
   "metadata": {},
   "source": [
    "### Remove location variables"
   ]
  },
  {
   "cell_type": "code",
   "execution_count": null,
   "id": "4ed45a9b-3b8f-4b60-9e11-f6c2e37891cb",
   "metadata": {},
   "outputs": [],
   "source": [
    "X = X.drop(columns=[\"Latitude\",\"Longitude\"])"
   ]
  },
  {
   "cell_type": "markdown",
   "id": "2eeb7c3a-9acd-4974-91c8-c61662bed06f",
   "metadata": {},
   "source": [
    "### Train/Test split"
   ]
  },
  {
   "cell_type": "code",
   "execution_count": null,
   "id": "14b5138b-7ae6-4375-a1a0-30d8a8dcc4af",
   "metadata": {},
   "outputs": [],
   "source": [
    "X_train, X_test, y_train, y_test = train_test_split(\n",
    "    X, y,              # arrays or matrices I want to split\n",
    "    test_size=0.3,     # the proportion to data for testing\n",
    "    random_state=123,  # can be any number. make the split reproducibile\n",
    "    shuffle=True,       # if we want to shuffle data before splitting\n",
    ")"
   ]
  },
  {
   "cell_type": "markdown",
   "id": "599471a2-9609-4b52-9f9e-b51a6e250b19",
   "metadata": {},
   "source": [
    "### Features Standardization"
   ]
  },
  {
   "cell_type": "code",
   "execution_count": null,
   "id": "97131de3-1bc0-407b-9263-c3dd2cb17c04",
   "metadata": {},
   "outputs": [],
   "source": [
    "sc = StandardScaler()"
   ]
  },
  {
   "cell_type": "code",
   "execution_count": null,
   "id": "f1ff64e8-97b6-4886-978d-84ff62038c46",
   "metadata": {},
   "outputs": [],
   "source": [
    "X_train_sc = sc.fit_transform(X_train)\n",
    "X_train_sc = pd.DataFrame(X_train_sc, columns=X_train.columns)"
   ]
  },
  {
   "cell_type": "code",
   "execution_count": null,
   "id": "c4515c4c-4550-4c8a-9f14-dcfaa2a44b67",
   "metadata": {},
   "outputs": [],
   "source": [
    "X_train.head()"
   ]
  },
  {
   "cell_type": "code",
   "execution_count": null,
   "id": "d01d8fd0-1bb5-4e78-bb95-018eb0835205",
   "metadata": {},
   "outputs": [],
   "source": [
    "X_train_sc.head()"
   ]
  },
  {
   "cell_type": "markdown",
   "id": "564cf06c-10f4-496d-adac-e8e2071b6f52",
   "metadata": {},
   "source": [
    "### Train ML model"
   ]
  },
  {
   "cell_type": "code",
   "execution_count": null,
   "id": "fe74cb8d-d23f-4657-b94c-bb1a474cbf18",
   "metadata": {},
   "outputs": [],
   "source": [
    "reg = LinearRegression()"
   ]
  },
  {
   "cell_type": "code",
   "execution_count": null,
   "id": "78a1be14-6e6e-46ba-a27e-46a51008bf53",
   "metadata": {},
   "outputs": [],
   "source": [
    "reg.fit(X_train, y_train)"
   ]
  },
  {
   "cell_type": "markdown",
   "id": "3701dfae-777e-4a89-b65e-d7bec9eff87d",
   "metadata": {},
   "source": [
    "### Evaluate model"
   ]
  },
  {
   "cell_type": "code",
   "execution_count": null,
   "id": "1819d1db-d8a5-4677-ab76-1c1d63416dc3",
   "metadata": {},
   "outputs": [],
   "source": [
    "# R2 for training\n",
    "r2_train = reg.score(X_train, y_train)\n",
    "\n",
    "# R2 for test\n",
    "r2_test = reg.score(X_test, y_test)"
   ]
  },
  {
   "cell_type": "code",
   "execution_count": null,
   "id": "486ea725-5ea0-4c9e-9074-015bdbf92987",
   "metadata": {},
   "outputs": [],
   "source": [
    "print(f\"R2 Train: {r2_train}\")\n",
    "print(f\"R2 Test: {r2_test}\")"
   ]
  },
  {
   "cell_type": "markdown",
   "id": "a82f2e7f-ad0f-4bef-b6f6-f91025e2fc0b",
   "metadata": {},
   "source": [
    "### Make estimations with the model\n",
    "\n",
    "**Question 3** - What is the recomended for sale price of my house now?"
   ]
  },
  {
   "cell_type": "code",
   "execution_count": null,
   "id": "d89473d6-63dc-4aac-913a-a4365a8ca10d",
   "metadata": {},
   "outputs": [],
   "source": [
    "new_sample = [{\n",
    "    \"MedInc\": 6,\n",
    "    \"HouseAge\": 30,\n",
    "    \"AveRooms\": 6,\n",
    "    \"AveBedrms\": 3,\n",
    "    \"Population\": 300,\n",
    "    \"AveOccup\": 2,\n",
    "    \"distance2SF\": distance.distance(myLocation, sfLocation).km,\n",
    "    \"distance2SJ\": distance.distance(myLocation, sjLocation).km,\n",
    "    \"distance2SD\": distance.distance(myLocation, sdLocation).km,\n",
    "}]\n",
    "\n",
    "new_sample = pd.DataFrame.from_dict(new_sample, orient=\"columns\")"
   ]
  },
  {
   "cell_type": "code",
   "execution_count": null,
   "id": "f43f3143-89f6-4a19-a2e7-ccc28ef14f74",
   "metadata": {},
   "outputs": [],
   "source": [
    "new_sample"
   ]
  },
  {
   "cell_type": "markdown",
   "id": "5eeab5eb-d22b-47bb-9be9-0cc209c3b0ad",
   "metadata": {},
   "source": [
    "#### Scale features"
   ]
  },
  {
   "cell_type": "code",
   "execution_count": null,
   "id": "44645c78-044a-4e38-9711-f9f47f68b061",
   "metadata": {},
   "outputs": [],
   "source": [
    "new_sample_sc = sc.transform(new_sample)\n",
    "new_sample_sc = pd.DataFrame(new_sample_sc, columns=new_sample.columns)"
   ]
  },
  {
   "cell_type": "code",
   "execution_count": null,
   "id": "5f78b076-8715-48ba-8ec4-cbfc5f09c891",
   "metadata": {},
   "outputs": [],
   "source": [
    "new_sample_sc"
   ]
  },
  {
   "cell_type": "markdown",
   "id": "c9628c4f-2a06-4f04-bb4e-fa3f58af04f1",
   "metadata": {},
   "source": [
    "#### Predict"
   ]
  },
  {
   "cell_type": "code",
   "execution_count": null,
   "id": "ce894512-a18b-4195-af10-04e9d111bf51",
   "metadata": {},
   "outputs": [],
   "source": [
    "my_house_est_price = reg.predict(new_sample_sc)"
   ]
  },
  {
   "cell_type": "markdown",
   "id": "d6154bdc-56e4-4605-b1db-422231090fee",
   "metadata": {},
   "source": [
    "### Let's do some graphics\n",
    "Represent the `MedInc` against the target `MedHouseVal`"
   ]
  },
  {
   "cell_type": "code",
   "execution_count": null,
   "id": "6da78621-14a5-440f-8e42-5cdfe08829b5",
   "metadata": {},
   "outputs": [],
   "source": [
    "import plotly.express as px\n",
    "import plotly.graph_objects as go"
   ]
  },
  {
   "cell_type": "code",
   "execution_count": null,
   "id": "1657ce98-0c9a-4316-bd7e-fc8cf230d595",
   "metadata": {},
   "outputs": [],
   "source": [
    "fig = go.Figure(layout_template=\"none\", layout_title=\"MedInc -vs- MedHouseVal\")\n",
    "\n",
    "# add test data\n",
    "fig.add_trace(go.Scattergl(   # the scattergl option is more suitable in case we have many samples (>1000) to plot\n",
    "    x=X_test.MedInc,\n",
    "    y=y_test,\n",
    "    mode=\"markers\",\n",
    "    name=\"Rest of Houses\",\n",
    "))\n",
    "\n",
    "# add my house\n",
    "fig.add_trace(go.Scatter(\n",
    "    x=new_sample.MedInc,\n",
    "    y=my_house_est_price,\n",
    "    mode=\"markers\",\n",
    "    marker=dict(\n",
    "        size=15,\n",
    "        symbol=\"star-triangle-up-dot\"\n",
    "    ),\n",
    "    name=\"My House\"\n",
    "))\n",
    "\n",
    "fig.update_xaxes(title=\"MedInc (x10K $)\")\n",
    "fig.update_yaxes(title=\"MedHouseVal (x100K $)\")"
   ]
  },
  {
   "cell_type": "code",
   "execution_count": null,
   "id": "393861cd-4b9e-462d-a9c5-848d1ea30f29",
   "metadata": {},
   "outputs": [],
   "source": [
    "import joblib\n",
    "joblib.dump(reg, \"lr1.pkl\")\n",
    "my_model = joblib.load(\"lr1.pkl\")"
   ]
  },
  {
   "cell_type": "code",
   "execution_count": null,
   "id": "d9c4b3de-fda4-4355-a9b6-7425641b7609",
   "metadata": {},
   "outputs": [],
   "source": []
  },
  {
   "cell_type": "code",
   "execution_count": null,
   "id": "dfcea899-581c-49f4-872e-41e3f168e04b",
   "metadata": {},
   "outputs": [],
   "source": []
  }
 ],
 "metadata": {
  "kernelspec": {
   "display_name": "Python 3 (ipykernel)",
   "language": "python",
   "name": "python3"
  },
  "language_info": {
   "codemirror_mode": {
    "name": "ipython",
    "version": 3
   },
   "file_extension": ".py",
   "mimetype": "text/x-python",
   "name": "python",
   "nbconvert_exporter": "python",
   "pygments_lexer": "ipython3",
   "version": "3.10.11"
  }
 },
 "nbformat": 4,
 "nbformat_minor": 5
}
